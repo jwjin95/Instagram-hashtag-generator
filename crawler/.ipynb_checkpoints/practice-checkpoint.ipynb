{
 "cells": [
  {
   "cell_type": "code",
   "execution_count": 31,
   "metadata": {},
   "outputs": [],
   "source": [
    "import urllib.request\n",
    "import time\n",
    "from selenium import webdriver\n",
    "from bs4 import BeautifulSoup as bs\n",
    "from selenium.webdriver.common.keys import Keys\n",
    "import time\n",
    "import requests"
   ]
  },
  {
   "cell_type": "code",
   "execution_count": 32,
   "metadata": {},
   "outputs": [],
   "source": [
    "driver = webdriver.Chrome('C:/Users/LG/Desktop/21winter/YBIGTA/edu_session/0202 크롤링/chromedriver.exe')\n",
    "driver_2 = webdriver.Chrome('C:/Users/LG/Desktop/21winter/YBIGTA/edu_session/0202 크롤링/chromedriver.exe')"
   ]
  },
  {
   "cell_type": "code",
   "execution_count": 33,
   "metadata": {},
   "outputs": [
    {
     "data": {
      "text/plain": [
       "[<div class=\"v1Nh3 kIKUG _bz0w\"><a href=\"/p/CLYyVESBmAy/\" tabindex=\"0\"><div class=\"eLAPa\"><div class=\"KL4Bh\"><img alt=\"Photo shared by 여행에미치다 공식 on February 17, 2021 tagging @saram.travel. May be an image of sky, nature and twilight.\" class=\"FFVAD\" decoding=\"auto\" sizes=\"293px\" src=\"https://scontent-ssn1-1.cdninstagram.com/v/t51.2885-15/sh0.08/e35/c0.180.1440.1440a/s640x640/150812119_2837722113140065_7029471732273513564_n.jpg?_nc_ht=scontent-ssn1-1.cdninstagram.com&amp;_nc_cat=1&amp;_nc_ohc=0FmbwJ0_PJwAX9u_Rlx&amp;tp=1&amp;oh=b7aaa4766f710bfcec2a0e0ac371a881&amp;oe=6058196A\" srcset=\"https://scontent-ssn1-1.cdninstagram.com/v/t51.2885-15/e35/c0.180.1440.1440a/s150x150/150812119_2837722113140065_7029471732273513564_n.jpg?_nc_ht=scontent-ssn1-1.cdninstagram.com&amp;_nc_cat=1&amp;_nc_ohc=0FmbwJ0_PJwAX9u_Rlx&amp;tp=1&amp;oh=2f26b25045c092084a41d85543d95d59&amp;oe=60568907 150w,https://scontent-ssn1-1.cdninstagram.com/v/t51.2885-15/e35/c0.180.1440.1440a/s240x240/150812119_2837722113140065_7029471732273513564_n.jpg?_nc_ht=scontent-ssn1-1.cdninstagram.com&amp;_nc_cat=1&amp;_nc_ohc=0FmbwJ0_PJwAX9u_Rlx&amp;tp=1&amp;oh=ed35d829cc9859fe32e9a13d626c91f5&amp;oe=6057A34F 240w,https://scontent-ssn1-1.cdninstagram.com/v/t51.2885-15/e35/c0.180.1440.1440a/s320x320/150812119_2837722113140065_7029471732273513564_n.jpg?_nc_ht=scontent-ssn1-1.cdninstagram.com&amp;_nc_cat=1&amp;_nc_ohc=0FmbwJ0_PJwAX9u_Rlx&amp;tp=1&amp;oh=54f648e40417d1de1a71301201e93442&amp;oe=60564692 320w,https://scontent-ssn1-1.cdninstagram.com/v/t51.2885-15/e35/c0.180.1440.1440a/s480x480/150812119_2837722113140065_7029471732273513564_n.jpg?_nc_ht=scontent-ssn1-1.cdninstagram.com&amp;_nc_cat=1&amp;_nc_ohc=0FmbwJ0_PJwAX9u_Rlx&amp;tp=1&amp;oh=7ea639469f02a6acecf63fb0760286dd&amp;oe=6055D7D4 480w,https://scontent-ssn1-1.cdninstagram.com/v/t51.2885-15/sh0.08/e35/c0.180.1440.1440a/s640x640/150812119_2837722113140065_7029471732273513564_n.jpg?_nc_ht=scontent-ssn1-1.cdninstagram.com&amp;_nc_cat=1&amp;_nc_ohc=0FmbwJ0_PJwAX9u_Rlx&amp;tp=1&amp;oh=b7aaa4766f710bfcec2a0e0ac371a881&amp;oe=6058196A 640w\" style=\"object-fit: cover;\"/></div><div class=\"_9AhH0\"></div></div><div class=\"u7YqG\"><span aria-label=\"슬라이드\" class=\"mediatypesSpriteCarousel__filled__32 u-__7\"></span></div></a></div>,\n",
       " <div class=\"v1Nh3 kIKUG _bz0w\"><a href=\"/p/CLYdekQhhrM/\" tabindex=\"0\"><div class=\"eLAPa\"><div class=\"KL4Bh\"><img alt=\"라오스 하면 블루라군 다이빙 아니겠어?😎\n",
       " ⠀\n",
       " Video by @junveler_\n",
       " #여행에미치다 #라오스 #블루라군 #Laos #Bluelagoon\" class=\"FFVAD\" decoding=\"auto\" sizes=\"293px\" src=\"https://scontent-ssn1-1.cdninstagram.com/v/t51.2885-15/sh0.08/e35/c0.280.720.720a/s640x640/151411477_364558824674546_5104056415146391819_n.jpg?_nc_ht=scontent-ssn1-1.cdninstagram.com&amp;_nc_cat=1&amp;_nc_ohc=iQOPmZwpJ54AX8PsZFt&amp;tp=1&amp;oh=72d9ba46524ec446d62027684cb010a0&amp;oe=602F731F\" srcset=\"https://scontent-ssn1-1.cdninstagram.com/v/t51.2885-15/e35/c0.280.720.720a/s150x150/151411477_364558824674546_5104056415146391819_n.jpg?_nc_ht=scontent-ssn1-1.cdninstagram.com&amp;_nc_cat=1&amp;_nc_ohc=iQOPmZwpJ54AX8PsZFt&amp;tp=1&amp;oh=b2dc56bb5c803ac91631cc4870d0eae8&amp;oe=602F981A 150w,https://scontent-ssn1-1.cdninstagram.com/v/t51.2885-15/e35/c0.280.720.720a/s240x240/151411477_364558824674546_5104056415146391819_n.jpg?_nc_ht=scontent-ssn1-1.cdninstagram.com&amp;_nc_cat=1&amp;_nc_ohc=iQOPmZwpJ54AX8PsZFt&amp;tp=1&amp;oh=8db5e85aef270e9d0b829abdb3f20436&amp;oe=602FEFA0 240w,https://scontent-ssn1-1.cdninstagram.com/v/t51.2885-15/e35/c0.280.720.720a/s320x320/151411477_364558824674546_5104056415146391819_n.jpg?_nc_ht=scontent-ssn1-1.cdninstagram.com&amp;_nc_cat=1&amp;_nc_ohc=iQOPmZwpJ54AX8PsZFt&amp;tp=1&amp;oh=c0480541463f357839fee9ebadcac9e7&amp;oe=602F8E22 320w,https://scontent-ssn1-1.cdninstagram.com/v/t51.2885-15/e35/c0.280.720.720a/s480x480/151411477_364558824674546_5104056415146391819_n.jpg?_nc_ht=scontent-ssn1-1.cdninstagram.com&amp;_nc_cat=1&amp;_nc_ohc=iQOPmZwpJ54AX8PsZFt&amp;tp=1&amp;oh=1f353c88e13cda61bf17256f3cedfa10&amp;oe=602FA0A7 480w,https://scontent-ssn1-1.cdninstagram.com/v/t51.2885-15/sh0.08/e35/c0.280.720.720a/s640x640/151411477_364558824674546_5104056415146391819_n.jpg?_nc_ht=scontent-ssn1-1.cdninstagram.com&amp;_nc_cat=1&amp;_nc_ohc=iQOPmZwpJ54AX8PsZFt&amp;tp=1&amp;oh=72d9ba46524ec446d62027684cb010a0&amp;oe=602F731F 640w\" style=\"object-fit: cover;\"/></div><div class=\"_9AhH0\"></div></div><div class=\"u7YqG\"><span aria-label=\"동영상\" class=\"mediatypesSpriteVideo__filled__32 u-__7\"></span></div></a></div>,\n",
       " <div class=\"v1Nh3 kIKUG _bz0w\"><a href=\"/p/CLYIFWhB3ev/\" tabindex=\"0\"><div class=\"eLAPa\"><div class=\"KL4Bh\"><img alt=\"Photo by 여행에미치다 공식 on February 16, 2021. May be an image of indoor.\" class=\"FFVAD\" decoding=\"auto\" sizes=\"293px\" src=\"https://scontent-ssn1-1.cdninstagram.com/v/t51.2885-15/sh0.08/e35/c0.180.1440.1440a/s640x640/150011942_333513414661992_6003135127306401713_n.jpg?_nc_ht=scontent-ssn1-1.cdninstagram.com&amp;_nc_cat=1&amp;_nc_ohc=QDfP1rucL8EAX_Vb0qv&amp;tp=1&amp;oh=25751038f6ca2bcf25944da33fd53cac&amp;oe=60589303\" srcset=\"https://scontent-ssn1-1.cdninstagram.com/v/t51.2885-15/e35/c0.180.1440.1440a/s150x150/150011942_333513414661992_6003135127306401713_n.jpg?_nc_ht=scontent-ssn1-1.cdninstagram.com&amp;_nc_cat=1&amp;_nc_ohc=QDfP1rucL8EAX_Vb0qv&amp;tp=1&amp;oh=1f425d2dc70dc355c94076ae1adfa665&amp;oe=60572433 150w,https://scontent-ssn1-1.cdninstagram.com/v/t51.2885-15/e35/c0.180.1440.1440a/s240x240/150011942_333513414661992_6003135127306401713_n.jpg?_nc_ht=scontent-ssn1-1.cdninstagram.com&amp;_nc_cat=1&amp;_nc_ohc=QDfP1rucL8EAX_Vb0qv&amp;tp=1&amp;oh=54aa7dc1b25e9f69bcc8eb618665ddd5&amp;oe=60576735 240w,https://scontent-ssn1-1.cdninstagram.com/v/t51.2885-15/e35/c0.180.1440.1440a/s320x320/150011942_333513414661992_6003135127306401713_n.jpg?_nc_ht=scontent-ssn1-1.cdninstagram.com&amp;_nc_cat=1&amp;_nc_ohc=QDfP1rucL8EAX_Vb0qv&amp;tp=1&amp;oh=1090400744b6da80511947bc2c40c38d&amp;oe=60556E4B 320w,https://scontent-ssn1-1.cdninstagram.com/v/t51.2885-15/e35/c0.180.1440.1440a/s480x480/150011942_333513414661992_6003135127306401713_n.jpg?_nc_ht=scontent-ssn1-1.cdninstagram.com&amp;_nc_cat=1&amp;_nc_ohc=QDfP1rucL8EAX_Vb0qv&amp;tp=1&amp;oh=12cad7a6fb6053ac8b1e798025df682a&amp;oe=6056CF8E 480w,https://scontent-ssn1-1.cdninstagram.com/v/t51.2885-15/sh0.08/e35/c0.180.1440.1440a/s640x640/150011942_333513414661992_6003135127306401713_n.jpg?_nc_ht=scontent-ssn1-1.cdninstagram.com&amp;_nc_cat=1&amp;_nc_ohc=QDfP1rucL8EAX_Vb0qv&amp;tp=1&amp;oh=25751038f6ca2bcf25944da33fd53cac&amp;oe=60589303 640w\" style=\"object-fit: cover;\"/></div><div class=\"_9AhH0\"></div></div><div class=\"u7YqG\"><span aria-label=\"슬라이드\" class=\"mediatypesSpriteCarousel__filled__32 u-__7\"></span></div></a></div>,\n",
       " <div class=\"v1Nh3 kIKUG _bz0w\"><a href=\"/p/CLTnGfSBiAT/\" tabindex=\"0\"><div class=\"eLAPa\"><div class=\"KL4Bh\"><img alt=\"Photo by 여행에미치다 공식 in 제주도 추자도 with @gyun_s. May be an image of outdoors.\" class=\"FFVAD\" decoding=\"auto\" sizes=\"293px\" src=\"https://scontent-ssn1-1.cdninstagram.com/v/t51.2885-15/sh0.08/e35/c0.179.1440.1440a/s640x640/150101378_431137308314169_9012377019201971827_n.jpg?_nc_ht=scontent-ssn1-1.cdninstagram.com&amp;_nc_cat=109&amp;_nc_ohc=CEQxpKQq2mAAX93hBa1&amp;tp=1&amp;oh=dad10ec6d313fb369a6adc8b20047d20&amp;oe=60573605\" srcset=\"https://scontent-ssn1-1.cdninstagram.com/v/t51.2885-15/e35/c0.179.1440.1440a/s150x150/150101378_431137308314169_9012377019201971827_n.jpg?_nc_ht=scontent-ssn1-1.cdninstagram.com&amp;_nc_cat=109&amp;_nc_ohc=CEQxpKQq2mAAX93hBa1&amp;tp=1&amp;oh=6edaf347426369c0cb93c261c72b70ce&amp;oe=6056BDB5 150w,https://scontent-ssn1-1.cdninstagram.com/v/t51.2885-15/e35/c0.179.1440.1440a/s240x240/150101378_431137308314169_9012377019201971827_n.jpg?_nc_ht=scontent-ssn1-1.cdninstagram.com&amp;_nc_cat=109&amp;_nc_ohc=CEQxpKQq2mAAX93hBa1&amp;tp=1&amp;oh=e5f11d9c4fcfdb61b927148f7560c766&amp;oe=6056B4B3 240w,https://scontent-ssn1-1.cdninstagram.com/v/t51.2885-15/e35/c0.179.1440.1440a/s320x320/150101378_431137308314169_9012377019201971827_n.jpg?_nc_ht=scontent-ssn1-1.cdninstagram.com&amp;_nc_cat=109&amp;_nc_ohc=CEQxpKQq2mAAX93hBa1&amp;tp=1&amp;oh=92d6045b66332e0ef38e18dd8467edc0&amp;oe=6057CF4D 320w,https://scontent-ssn1-1.cdninstagram.com/v/t51.2885-15/e35/c0.179.1440.1440a/s480x480/150101378_431137308314169_9012377019201971827_n.jpg?_nc_ht=scontent-ssn1-1.cdninstagram.com&amp;_nc_cat=109&amp;_nc_ohc=CEQxpKQq2mAAX93hBa1&amp;tp=1&amp;oh=658b75578638ca2558c46c54b376a5c4&amp;oe=6057D50C 480w,https://scontent-ssn1-1.cdninstagram.com/v/t51.2885-15/sh0.08/e35/c0.179.1440.1440a/s640x640/150101378_431137308314169_9012377019201971827_n.jpg?_nc_ht=scontent-ssn1-1.cdninstagram.com&amp;_nc_cat=109&amp;_nc_ohc=CEQxpKQq2mAAX93hBa1&amp;tp=1&amp;oh=dad10ec6d313fb369a6adc8b20047d20&amp;oe=60573605 640w\" style=\"object-fit: cover;\"/></div><div class=\"_9AhH0\"></div></div></a></div>,\n",
       " <div class=\"v1Nh3 kIKUG _bz0w\"><a href=\"/p/CLS7Vn-hK6V/\" tabindex=\"0\"><div class=\"eLAPa\"><div class=\"KL4Bh\"><img alt=\"Photo shared by 여행에미치다 공식 on February 14, 2021 tagging @sj.her. May be an image of indoor.\" class=\"FFVAD\" decoding=\"auto\" sizes=\"293px\" src=\"https://scontent-ssn1-1.cdninstagram.com/v/t51.2885-15/sh0.08/e35/s640x640/149845561_3728310413902672_6025345471017233426_n.jpg?_nc_ht=scontent-ssn1-1.cdninstagram.com&amp;_nc_cat=104&amp;_nc_ohc=u3_GCTOL17cAX_nhvOp&amp;tp=1&amp;oh=57fd7ae5d67e949eb8008578f56f2b02&amp;oe=60578554\" srcset=\"https://scontent-ssn1-1.cdninstagram.com/v/t51.2885-15/e35/s150x150/149845561_3728310413902672_6025345471017233426_n.jpg?_nc_ht=scontent-ssn1-1.cdninstagram.com&amp;_nc_cat=104&amp;_nc_ohc=u3_GCTOL17cAX_nhvOp&amp;tp=1&amp;oh=32f5f0c9c1008a9063a19067a0b34a96&amp;oe=6057A127 150w,https://scontent-ssn1-1.cdninstagram.com/v/t51.2885-15/e35/s240x240/149845561_3728310413902672_6025345471017233426_n.jpg?_nc_ht=scontent-ssn1-1.cdninstagram.com&amp;_nc_cat=104&amp;_nc_ohc=u3_GCTOL17cAX_nhvOp&amp;tp=1&amp;oh=6c0e689a910c9a8db1645c08cba6992f&amp;oe=605791EF 240w,https://scontent-ssn1-1.cdninstagram.com/v/t51.2885-15/e35/s320x320/149845561_3728310413902672_6025345471017233426_n.jpg?_nc_ht=scontent-ssn1-1.cdninstagram.com&amp;_nc_cat=104&amp;_nc_ohc=u3_GCTOL17cAX_nhvOp&amp;tp=1&amp;oh=30725b9ee3767ed4e52b333734588a7c&amp;oe=60575232 320w,https://scontent-ssn1-1.cdninstagram.com/v/t51.2885-15/e35/s480x480/149845561_3728310413902672_6025345471017233426_n.jpg?_nc_ht=scontent-ssn1-1.cdninstagram.com&amp;_nc_cat=104&amp;_nc_ohc=u3_GCTOL17cAX_nhvOp&amp;tp=1&amp;oh=a0eb4c6a50a41923fffd3d1155643f7b&amp;oe=6057C3F4 480w,https://scontent-ssn1-1.cdninstagram.com/v/t51.2885-15/sh0.08/e35/s640x640/149845561_3728310413902672_6025345471017233426_n.jpg?_nc_ht=scontent-ssn1-1.cdninstagram.com&amp;_nc_cat=104&amp;_nc_ohc=u3_GCTOL17cAX_nhvOp&amp;tp=1&amp;oh=57fd7ae5d67e949eb8008578f56f2b02&amp;oe=60578554 640w\" style=\"object-fit: cover;\"/></div><div class=\"_9AhH0\"></div></div><div class=\"u7YqG\"><span aria-label=\"슬라이드\" class=\"mediatypesSpriteCarousel__filled__32 u-__7\"></span></div></a></div>,\n",
       " <div class=\"v1Nh3 kIKUG _bz0w\"><a href=\"/p/CLJQwp4BTwe/\" tabindex=\"0\"><div class=\"eLAPa\"><div class=\"KL4Bh\"><img alt=\"Photo shared by 여행에미치다 공식 on February 11, 2021 tagging @travelholic_insta. May be an image of outdoors, monument and text.\" class=\"FFVAD\" decoding=\"auto\" sizes=\"293px\" src=\"https://scontent-ssn1-1.cdninstagram.com/v/t51.2885-15/sh0.08/e35/s640x640/149054089_1159421007824523_7250741580263188817_n.jpg?_nc_ht=scontent-ssn1-1.cdninstagram.com&amp;_nc_cat=103&amp;_nc_ohc=WBm28ldM3YAAX--a-AH&amp;tp=1&amp;oh=e64e61299595869cdff0380c43b6e86c&amp;oe=60580CFA\" srcset=\"https://scontent-ssn1-1.cdninstagram.com/v/t51.2885-15/e35/s150x150/149054089_1159421007824523_7250741580263188817_n.jpg?_nc_ht=scontent-ssn1-1.cdninstagram.com&amp;_nc_cat=103&amp;_nc_ohc=WBm28ldM3YAAX--a-AH&amp;tp=1&amp;oh=4c99b3c4c183438747389520b4ade869&amp;oe=6058140D 150w,https://scontent-ssn1-1.cdninstagram.com/v/t51.2885-15/e35/s240x240/149054089_1159421007824523_7250741580263188817_n.jpg?_nc_ht=scontent-ssn1-1.cdninstagram.com&amp;_nc_cat=103&amp;_nc_ohc=WBm28ldM3YAAX--a-AH&amp;tp=1&amp;oh=c44ebf3301ed0deab00bc6b2f64ecbfb&amp;oe=60568CC5 240w,https://scontent-ssn1-1.cdninstagram.com/v/t51.2885-15/e35/s320x320/149054089_1159421007824523_7250741580263188817_n.jpg?_nc_ht=scontent-ssn1-1.cdninstagram.com&amp;_nc_cat=103&amp;_nc_ohc=WBm28ldM3YAAX--a-AH&amp;tp=1&amp;oh=4b1db7d6e18570ad34200a565d02ab1e&amp;oe=6055129C 320w,https://scontent-ssn1-1.cdninstagram.com/v/t51.2885-15/e35/s480x480/149054089_1159421007824523_7250741580263188817_n.jpg?_nc_ht=scontent-ssn1-1.cdninstagram.com&amp;_nc_cat=103&amp;_nc_ohc=WBm28ldM3YAAX--a-AH&amp;tp=1&amp;oh=c18e694d14fee523e21bab4e44035d01&amp;oe=6055735A 480w,https://scontent-ssn1-1.cdninstagram.com/v/t51.2885-15/sh0.08/e35/s640x640/149054089_1159421007824523_7250741580263188817_n.jpg?_nc_ht=scontent-ssn1-1.cdninstagram.com&amp;_nc_cat=103&amp;_nc_ohc=WBm28ldM3YAAX--a-AH&amp;tp=1&amp;oh=e64e61299595869cdff0380c43b6e86c&amp;oe=60580CFA 640w\" style=\"object-fit: cover;\"/></div><div class=\"_9AhH0\"></div></div><div class=\"u7YqG\"><span aria-label=\"슬라이드\" class=\"mediatypesSpriteCarousel__filled__32 u-__7\"></span></div></a></div>,\n",
       " <div class=\"v1Nh3 kIKUG _bz0w\"><a href=\"/p/CLIwCZRBRiV/\" tabindex=\"0\"><div class=\"eLAPa\"><div class=\"KL4Bh\"><img alt=\"Photo shared by 여행에미치다 공식 on February 10, 2021 tagging @its_hyaaang. May be an image of bedroom.\" class=\"FFVAD\" decoding=\"auto\" sizes=\"293px\" src=\"https://scontent-ssn1-1.cdninstagram.com/v/t51.2885-15/sh0.08/e35/s640x640/148702860_343423826800887_822239602133633403_n.jpg?_nc_ht=scontent-ssn1-1.cdninstagram.com&amp;_nc_cat=103&amp;_nc_ohc=eHKzJnmjlVsAX8aTXes&amp;tp=1&amp;oh=a9497e5728d39eac3ff71a889df91ad6&amp;oe=6057BCEC\" srcset=\"https://scontent-ssn1-1.cdninstagram.com/v/t51.2885-15/e35/s150x150/148702860_343423826800887_822239602133633403_n.jpg?_nc_ht=scontent-ssn1-1.cdninstagram.com&amp;_nc_cat=103&amp;_nc_ohc=eHKzJnmjlVsAX8aTXes&amp;tp=1&amp;oh=ce33017bf35c1e9e53a13bf8a0cdaa8d&amp;oe=60552ECD 150w,https://scontent-ssn1-1.cdninstagram.com/v/t51.2885-15/e35/s240x240/148702860_343423826800887_822239602133633403_n.jpg?_nc_ht=scontent-ssn1-1.cdninstagram.com&amp;_nc_cat=103&amp;_nc_ohc=eHKzJnmjlVsAX8aTXes&amp;tp=1&amp;oh=dd8cb9c1e9a40440387c38ac3af68c9b&amp;oe=6056EB87 240w,https://scontent-ssn1-1.cdninstagram.com/v/t51.2885-15/e35/s320x320/148702860_343423826800887_822239602133633403_n.jpg?_nc_ht=scontent-ssn1-1.cdninstagram.com&amp;_nc_cat=103&amp;_nc_ohc=eHKzJnmjlVsAX8aTXes&amp;tp=1&amp;oh=2e14ebb09baf2abc201a7af966b92727&amp;oe=60580B3D 320w,https://scontent-ssn1-1.cdninstagram.com/v/t51.2885-15/e35/s480x480/148702860_343423826800887_822239602133633403_n.jpg?_nc_ht=scontent-ssn1-1.cdninstagram.com&amp;_nc_cat=103&amp;_nc_ohc=eHKzJnmjlVsAX8aTXes&amp;tp=1&amp;oh=fb0bd96318b1230644d2d7364deb574b&amp;oe=60586FE7 480w,https://scontent-ssn1-1.cdninstagram.com/v/t51.2885-15/sh0.08/e35/s640x640/148702860_343423826800887_822239602133633403_n.jpg?_nc_ht=scontent-ssn1-1.cdninstagram.com&amp;_nc_cat=103&amp;_nc_ohc=eHKzJnmjlVsAX8aTXes&amp;tp=1&amp;oh=a9497e5728d39eac3ff71a889df91ad6&amp;oe=6057BCEC 640w\" style=\"object-fit: cover;\"/></div><div class=\"_9AhH0\"></div></div><div class=\"u7YqG\"><span aria-label=\"슬라이드\" class=\"mediatypesSpriteCarousel__filled__32 u-__7\"></span></div></a></div>,\n",
       " <div class=\"v1Nh3 kIKUG _bz0w\"><a href=\"/p/CLGvSa_BULG/\" tabindex=\"0\"><div class=\"eLAPa\"><div class=\"KL4Bh\"><img alt=\"Photo shared by 여행에미치다 공식 on February 10, 2021 tagging @from___jin. May be an image of 1 person, standing and outdoors.\" class=\"FFVAD\" decoding=\"auto\" sizes=\"293px\" src=\"https://scontent-ssn1-1.cdninstagram.com/v/t51.2885-15/sh0.08/e35/c0.179.1440.1440a/s640x640/148252788_445162869857186_1188966824602477819_n.jpg?_nc_ht=scontent-ssn1-1.cdninstagram.com&amp;_nc_cat=102&amp;_nc_ohc=7kcKdiCdSzUAX_m2gfV&amp;tp=1&amp;oh=0afc097b9e02148d29e034365589aac0&amp;oe=6057F74D\" srcset=\"https://scontent-ssn1-1.cdninstagram.com/v/t51.2885-15/e35/c0.179.1440.1440a/s150x150/148252788_445162869857186_1188966824602477819_n.jpg?_nc_ht=scontent-ssn1-1.cdninstagram.com&amp;_nc_cat=102&amp;_nc_ohc=7kcKdiCdSzUAX_m2gfV&amp;tp=1&amp;oh=f0eca2b35cc9c34a6912130bf3a3ed3f&amp;oe=605769FD 150w,https://scontent-ssn1-1.cdninstagram.com/v/t51.2885-15/e35/c0.179.1440.1440a/s240x240/148252788_445162869857186_1188966824602477819_n.jpg?_nc_ht=scontent-ssn1-1.cdninstagram.com&amp;_nc_cat=102&amp;_nc_ohc=7kcKdiCdSzUAX_m2gfV&amp;tp=1&amp;oh=6ef905d96dddd7006918ea122a1653ac&amp;oe=60553C7B 240w,https://scontent-ssn1-1.cdninstagram.com/v/t51.2885-15/e35/c0.179.1440.1440a/s320x320/148252788_445162869857186_1188966824602477819_n.jpg?_nc_ht=scontent-ssn1-1.cdninstagram.com&amp;_nc_cat=102&amp;_nc_ohc=7kcKdiCdSzUAX_m2gfV&amp;tp=1&amp;oh=e91c0da6257299a3250c594c8a905208&amp;oe=60582385 320w,https://scontent-ssn1-1.cdninstagram.com/v/t51.2885-15/e35/c0.179.1440.1440a/s480x480/148252788_445162869857186_1188966824602477819_n.jpg?_nc_ht=scontent-ssn1-1.cdninstagram.com&amp;_nc_cat=102&amp;_nc_ohc=7kcKdiCdSzUAX_m2gfV&amp;tp=1&amp;oh=2156b31c890a0a52fec36c6d04168d8f&amp;oe=60565EC4 480w,https://scontent-ssn1-1.cdninstagram.com/v/t51.2885-15/sh0.08/e35/c0.179.1440.1440a/s640x640/148252788_445162869857186_1188966824602477819_n.jpg?_nc_ht=scontent-ssn1-1.cdninstagram.com&amp;_nc_cat=102&amp;_nc_ohc=7kcKdiCdSzUAX_m2gfV&amp;tp=1&amp;oh=0afc097b9e02148d29e034365589aac0&amp;oe=6057F74D 640w\" style=\"object-fit: cover;\"/></div><div class=\"_9AhH0\"></div></div><div class=\"u7YqG\"><span aria-label=\"슬라이드\" class=\"mediatypesSpriteCarousel__filled__32 u-__7\"></span></div></a></div>,\n",
       " <div class=\"v1Nh3 kIKUG _bz0w\"><a href=\"/p/CLGb7WHByFH/\" tabindex=\"0\"><div class=\"eLAPa\"><div class=\"KL4Bh\"><img alt=\"저세상 색감의 오스트리아❣️\n",
       " ⠀\n",
       " #여행에미치다 #오스트리아 #랜선여행 #travelholic\" class=\"FFVAD\" decoding=\"auto\" sizes=\"293px\" src=\"https://scontent-ssn1-1.cdninstagram.com/v/t51.2885-15/sh0.08/e35/c0.483.1242.1242a/s640x640/147500804_167964534892023_3568448328667049111_n.jpg?_nc_ht=scontent-ssn1-1.cdninstagram.com&amp;_nc_cat=103&amp;_nc_ohc=W2GcevgCqV0AX8ClMwv&amp;tp=1&amp;oh=fcbcdbd37a4632229cdb2758e48e241d&amp;oe=602F5D45\" srcset=\"https://scontent-ssn1-1.cdninstagram.com/v/t51.2885-15/e35/c0.483.1242.1242a/s150x150/147500804_167964534892023_3568448328667049111_n.jpg?_nc_ht=scontent-ssn1-1.cdninstagram.com&amp;_nc_cat=103&amp;_nc_ohc=W2GcevgCqV0AX8ClMwv&amp;tp=1&amp;oh=c3ea19c1c9adefa595bd0ab7c80c17ee&amp;oe=602F9B75 150w,https://scontent-ssn1-1.cdninstagram.com/v/t51.2885-15/e35/c0.483.1242.1242a/s240x240/147500804_167964534892023_3568448328667049111_n.jpg?_nc_ht=scontent-ssn1-1.cdninstagram.com&amp;_nc_cat=103&amp;_nc_ohc=W2GcevgCqV0AX8ClMwv&amp;tp=1&amp;oh=475e64c556a8c11382eef38ea3040b52&amp;oe=602FDEB3 240w,https://scontent-ssn1-1.cdninstagram.com/v/t51.2885-15/e35/c0.483.1242.1242a/s320x320/147500804_167964534892023_3568448328667049111_n.jpg?_nc_ht=scontent-ssn1-1.cdninstagram.com&amp;_nc_cat=103&amp;_nc_ohc=W2GcevgCqV0AX8ClMwv&amp;tp=1&amp;oh=bab7a66ce7a5c2cc65d2611e47937112&amp;oe=602FE88D 320w,https://scontent-ssn1-1.cdninstagram.com/v/t51.2885-15/e35/c0.483.1242.1242a/s480x480/147500804_167964534892023_3568448328667049111_n.jpg?_nc_ht=scontent-ssn1-1.cdninstagram.com&amp;_nc_cat=103&amp;_nc_ohc=W2GcevgCqV0AX8ClMwv&amp;tp=1&amp;oh=cc9e8302af8ad157341e3ef180198017&amp;oe=602FAB8C 480w,https://scontent-ssn1-1.cdninstagram.com/v/t51.2885-15/sh0.08/e35/c0.483.1242.1242a/s640x640/147500804_167964534892023_3568448328667049111_n.jpg?_nc_ht=scontent-ssn1-1.cdninstagram.com&amp;_nc_cat=103&amp;_nc_ohc=W2GcevgCqV0AX8ClMwv&amp;tp=1&amp;oh=fcbcdbd37a4632229cdb2758e48e241d&amp;oe=602F5D45 640w\" style=\"object-fit: cover;\"/></div><div class=\"_9AhH0\"></div></div><div class=\"u7YqG\"><span aria-label=\"동영상\" class=\"mediatypesSpriteVideo__filled__32 u-__7\"></span></div></a></div>,\n",
       " <div class=\"v1Nh3 kIKUG _bz0w\"><a href=\"/p/CLGGE2WhT3O/\" tabindex=\"0\"><div class=\"eLAPa\"><div class=\"KL4Bh\"><img alt=\"Photo shared by 여행에미치다 공식 on February 09, 2021 tagging @cafe_______in, and @wise_lovelyy. May be an image of 1 person, standing and indoor.\" class=\"FFVAD\" decoding=\"auto\" sizes=\"293px\" src=\"https://scontent-ssn1-1.cdninstagram.com/v/t51.2885-15/sh0.08/e35/c0.180.1440.1440a/s640x640/147950018_544753126483254_7492018427254808141_n.jpg?_nc_ht=scontent-ssn1-1.cdninstagram.com&amp;_nc_cat=106&amp;_nc_ohc=RElthTEaGAgAX9O7ux8&amp;tp=1&amp;oh=53241a457a05764997fb6e23556db422&amp;oe=6056116B\" srcset=\"https://scontent-ssn1-1.cdninstagram.com/v/t51.2885-15/e35/c0.180.1440.1440a/s150x150/147950018_544753126483254_7492018427254808141_n.jpg?_nc_ht=scontent-ssn1-1.cdninstagram.com&amp;_nc_cat=106&amp;_nc_ohc=RElthTEaGAgAX9O7ux8&amp;tp=1&amp;oh=ab2ea6169c8eb0186231febf568f01b0&amp;oe=605689DB 150w,https://scontent-ssn1-1.cdninstagram.com/v/t51.2885-15/e35/c0.180.1440.1440a/s240x240/147950018_544753126483254_7492018427254808141_n.jpg?_nc_ht=scontent-ssn1-1.cdninstagram.com&amp;_nc_cat=106&amp;_nc_ohc=RElthTEaGAgAX9O7ux8&amp;tp=1&amp;oh=d7144bc1c5a533f470f782120ebfbf64&amp;oe=60562F5D 240w,https://scontent-ssn1-1.cdninstagram.com/v/t51.2885-15/e35/c0.180.1440.1440a/s320x320/147950018_544753126483254_7492018427254808141_n.jpg?_nc_ht=scontent-ssn1-1.cdninstagram.com&amp;_nc_cat=106&amp;_nc_ohc=RElthTEaGAgAX9O7ux8&amp;tp=1&amp;oh=b3c2516f4cabc0fe19fdf575570dfcf9&amp;oe=605615A3 320w,https://scontent-ssn1-1.cdninstagram.com/v/t51.2885-15/e35/c0.180.1440.1440a/s480x480/147950018_544753126483254_7492018427254808141_n.jpg?_nc_ht=scontent-ssn1-1.cdninstagram.com&amp;_nc_cat=106&amp;_nc_ohc=RElthTEaGAgAX9O7ux8&amp;tp=1&amp;oh=2d6f393b8d285419225abfbfa24f58b5&amp;oe=6054FFE6 480w,https://scontent-ssn1-1.cdninstagram.com/v/t51.2885-15/sh0.08/e35/c0.180.1440.1440a/s640x640/147950018_544753126483254_7492018427254808141_n.jpg?_nc_ht=scontent-ssn1-1.cdninstagram.com&amp;_nc_cat=106&amp;_nc_ohc=RElthTEaGAgAX9O7ux8&amp;tp=1&amp;oh=53241a457a05764997fb6e23556db422&amp;oe=6056116B 640w\" style=\"object-fit: cover;\"/></div><div class=\"_9AhH0\"></div></div><div class=\"u7YqG\"><span aria-label=\"슬라이드\" class=\"mediatypesSpriteCarousel__filled__32 u-__7\"></span></div></a></div>,\n",
       " <div class=\"v1Nh3 kIKUG _bz0w\"><a href=\"/p/CLEIwcdha9Q/\" tabindex=\"0\"><div class=\"eLAPa\"><div class=\"KL4Bh\"><img alt=\"Photo shared by 여행에미치다 공식 on February 09, 2021 tagging @sinjong_i. May be an image of 1 person, sky and twilight.\" class=\"FFVAD\" decoding=\"auto\" sizes=\"293px\" src=\"https://scontent-ssn1-1.cdninstagram.com/v/t51.2885-15/sh0.08/e35/c0.180.1440.1440a/s640x640/146994768_112716394131660_5368676776271887550_n.jpg?_nc_ht=scontent-ssn1-1.cdninstagram.com&amp;_nc_cat=100&amp;_nc_ohc=5xEAUEk4pAkAX_OE-ys&amp;tp=1&amp;oh=bfdb13fc4494f1634398d6ea6833710f&amp;oe=60561E9C\" srcset=\"https://scontent-ssn1-1.cdninstagram.com/v/t51.2885-15/e35/c0.180.1440.1440a/s150x150/146994768_112716394131660_5368676776271887550_n.jpg?_nc_ht=scontent-ssn1-1.cdninstagram.com&amp;_nc_cat=100&amp;_nc_ohc=5xEAUEk4pAkAX_OE-ys&amp;tp=1&amp;oh=138548a170ea0979b4d03ed67d7dfa2d&amp;oe=605809AC 150w,https://scontent-ssn1-1.cdninstagram.com/v/t51.2885-15/e35/c0.180.1440.1440a/s240x240/146994768_112716394131660_5368676776271887550_n.jpg?_nc_ht=scontent-ssn1-1.cdninstagram.com&amp;_nc_cat=100&amp;_nc_ohc=5xEAUEk4pAkAX_OE-ys&amp;tp=1&amp;oh=b92ee342d07b889baf6af49bab377383&amp;oe=605578AE 240w,https://scontent-ssn1-1.cdninstagram.com/v/t51.2885-15/e35/c0.180.1440.1440a/s320x320/146994768_112716394131660_5368676776271887550_n.jpg?_nc_ht=scontent-ssn1-1.cdninstagram.com&amp;_nc_cat=100&amp;_nc_ohc=5xEAUEk4pAkAX_OE-ys&amp;tp=1&amp;oh=29ce7f104d481cd696b285fb9210a959&amp;oe=605709D4 320w,https://scontent-ssn1-1.cdninstagram.com/v/t51.2885-15/e35/c0.180.1440.1440a/s480x480/146994768_112716394131660_5368676776271887550_n.jpg?_nc_ht=scontent-ssn1-1.cdninstagram.com&amp;_nc_cat=100&amp;_nc_ohc=5xEAUEk4pAkAX_OE-ys&amp;tp=1&amp;oh=0189c9d60cd7c95ccc9a9aa71a1f4262&amp;oe=60566415 480w,https://scontent-ssn1-1.cdninstagram.com/v/t51.2885-15/sh0.08/e35/c0.180.1440.1440a/s640x640/146994768_112716394131660_5368676776271887550_n.jpg?_nc_ht=scontent-ssn1-1.cdninstagram.com&amp;_nc_cat=100&amp;_nc_ohc=5xEAUEk4pAkAX_OE-ys&amp;tp=1&amp;oh=bfdb13fc4494f1634398d6ea6833710f&amp;oe=60561E9C 640w\" style=\"object-fit: cover;\"/></div><div class=\"_9AhH0\"></div></div><div class=\"u7YqG\"><span aria-label=\"슬라이드\" class=\"mediatypesSpriteCarousel__filled__32 u-__7\"></span></div></a></div>,\n",
       " <div class=\"v1Nh3 kIKUG _bz0w\"><a href=\"/p/CLECrxWBTtj/\" tabindex=\"0\"><div class=\"eLAPa\"><div class=\"KL4Bh\"><img alt=\"파리에서 가장 기억에 남는 장소는 어디였나요?\n",
       " ⠀\n",
       " #여행에미치다 #파리 #paris #랜선여행\" class=\"FFVAD\" decoding=\"auto\" sizes=\"293px\" src=\"https://scontent-ssn1-1.cdninstagram.com/v/t51.2885-15/sh0.08/e35/c0.483.1242.1242a/s640x640/148348808_181750946615347_4485405694907136527_n.jpg?_nc_ht=scontent-ssn1-1.cdninstagram.com&amp;_nc_cat=107&amp;_nc_ohc=yb-Kw9U504QAX9Nrc3h&amp;tp=1&amp;oh=5cb4dd7ab17d86590c8c25135df1c671&amp;oe=602F6608\" srcset=\"https://scontent-ssn1-1.cdninstagram.com/v/t51.2885-15/e35/c0.483.1242.1242a/s150x150/148348808_181750946615347_4485405694907136527_n.jpg?_nc_ht=scontent-ssn1-1.cdninstagram.com&amp;_nc_cat=107&amp;_nc_ohc=yb-Kw9U504QAX9Nrc3h&amp;tp=1&amp;oh=366d7d942b692bab8ae8916bdd882c16&amp;oe=602FAA78 150w,https://scontent-ssn1-1.cdninstagram.com/v/t51.2885-15/e35/c0.483.1242.1242a/s240x240/148348808_181750946615347_4485405694907136527_n.jpg?_nc_ht=scontent-ssn1-1.cdninstagram.com&amp;_nc_cat=107&amp;_nc_ohc=yb-Kw9U504QAX9Nrc3h&amp;tp=1&amp;oh=a6931645a6408fe968cf61994fd8c128&amp;oe=602FBF72 240w,https://scontent-ssn1-1.cdninstagram.com/v/t51.2885-15/e35/c0.483.1242.1242a/s320x320/148348808_181750946615347_4485405694907136527_n.jpg?_nc_ht=scontent-ssn1-1.cdninstagram.com&amp;_nc_cat=107&amp;_nc_ohc=yb-Kw9U504QAX9Nrc3h&amp;tp=1&amp;oh=7b04fce4efc6b0603466f31d198bc953&amp;oe=602FF9D0 320w,https://scontent-ssn1-1.cdninstagram.com/v/t51.2885-15/e35/c0.483.1242.1242a/s480x480/148348808_181750946615347_4485405694907136527_n.jpg?_nc_ht=scontent-ssn1-1.cdninstagram.com&amp;_nc_cat=107&amp;_nc_ohc=yb-Kw9U504QAX9Nrc3h&amp;tp=1&amp;oh=6a73b46aecf76a64aac4f9d530475767&amp;oe=602F8A09 480w,https://scontent-ssn1-1.cdninstagram.com/v/t51.2885-15/sh0.08/e35/c0.483.1242.1242a/s640x640/148348808_181750946615347_4485405694907136527_n.jpg?_nc_ht=scontent-ssn1-1.cdninstagram.com&amp;_nc_cat=107&amp;_nc_ohc=yb-Kw9U504QAX9Nrc3h&amp;tp=1&amp;oh=5cb4dd7ab17d86590c8c25135df1c671&amp;oe=602F6608 640w\" style=\"object-fit: cover;\"/></div><div class=\"_9AhH0\"></div></div><div class=\"u7YqG\"><span aria-label=\"동영상\" class=\"mediatypesSpriteVideo__filled__32 u-__7\"></span></div></a></div>]"
      ]
     },
     "execution_count": 33,
     "metadata": {},
     "output_type": "execute_result"
    }
   ],
   "source": [
    "url=\"https://www.instagram.com/explore/tags/\"\n",
    "tag = \"\"\n",
    "url += tag\n",
    "driver.get(url)\n",
    "\n",
    "time.sleep(3)\n",
    "\n",
    "html = driver.page_source\n",
    "soup = bs(html)\n",
    "\n",
    "insta = soup.select('.v1Nh3.kIKUG._bz0w')\n",
    "insta"
   ]
  },
  {
   "cell_type": "code",
   "execution_count": 34,
   "metadata": {},
   "outputs": [
    {
     "name": "stdout",
     "output_type": "stream",
     "text": [
      "https://scontent-ssn1-1.cdninstagram.com/v/t51.2885-15/sh0.08/e35/c0.180.1440.1440a/s640x640/150812119_2837722113140065_7029471732273513564_n.jpg?_nc_ht=scontent-ssn1-1.cdninstagram.com&_nc_cat=1&_nc_ohc=0FmbwJ0_PJwAX9u_Rlx&tp=1&oh=b7aaa4766f710bfcec2a0e0ac371a881&oe=6058196A\n",
      "['#여행에미치다', '#서울', '#Seoul', '#Korea', '#일출']\n"
     ]
    }
   ],
   "source": [
    "i = insta[0]\n",
    "tag_lists = []\n",
    "post_url = 'https://www.instagram.com' + i.a['href']\n",
    "driver_2.get(post_url)\n",
    "hashtags = driver_2.find_elements_by_class_name('xil3i')\n",
    "print(i.select_one('.KL4Bh').img['src'])\n",
    "\n",
    "for k in range(len(hashtags)):\n",
    "    tag_lists.append(hashtags[k].text)\n",
    "    \n",
    "print(tag_lists)"
   ]
  },
  {
   "cell_type": "code",
   "execution_count": 36,
   "metadata": {},
   "outputs": [],
   "source": [
    "n = 0\n",
    "\n",
    "\n",
    "csv_file = open('data_list.csv', 'w', encoding='utf-8-sig')\n",
    "\n",
    "for i in insta:\n",
    "    tag_list = ''\n",
    "    post_url = 'https://www.instagram.com' + i.a['href']\n",
    "    driver_2.get(post_url)\n",
    "    \n",
    "    time.sleep(2)\n",
    "    \n",
    "    hashtags = driver_2.find_elements_by_class_name('xil3i')\n",
    "    for k in range(len(hashtags)):\n",
    "        tag_list += hashtags[k].text\n",
    "    \n",
    "    img_url = i.select_one('.KL4Bh').img['src']\n",
    "    image_name = 'test_' + str(n) + '.jpg'\n",
    "    with urllib.request.urlopen(img_url) as f:\n",
    "        with open('./img/' + 'test_' + str(n) + '.jpg', 'wb') as h:\n",
    "            img = f.read()\n",
    "            h.write(img)\n",
    "            \n",
    "    \n",
    "    csv_file.write(image_name + ',' + tag_list + '\\n')\n",
    "    n += 1\n",
    "    \n",
    "    \n",
    "csv_file.close()"
   ]
  },
  {
   "cell_type": "code",
   "execution_count": 3,
   "metadata": {},
   "outputs": [],
   "source": [
    "with open(\"tag_lists.csv\", \"w\") as f:\n",
    "    "
   ]
  },
  {
   "cell_type": "code",
   "execution_count": null,
   "metadata": {},
   "outputs": [],
   "source": []
  }
 ],
 "metadata": {
  "kernelspec": {
   "display_name": "Python 3",
   "language": "python",
   "name": "python3"
  },
  "language_info": {
   "codemirror_mode": {
    "name": "ipython",
    "version": 3
   },
   "file_extension": ".py",
   "mimetype": "text/x-python",
   "name": "python",
   "nbconvert_exporter": "python",
   "pygments_lexer": "ipython3",
   "version": "3.7.6"
  }
 },
 "nbformat": 4,
 "nbformat_minor": 4
}
